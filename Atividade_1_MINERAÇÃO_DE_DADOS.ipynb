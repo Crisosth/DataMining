{
  "cells": [
    {
      "cell_type": "markdown",
      "metadata": {
        "id": "view-in-github",
        "colab_type": "text"
      },
      "source": [
        "<a href=\"https://colab.research.google.com/github/Crisosth/DataMining/blob/main/Atividade_1_MINERA%C3%87%C3%83O_DE_DADOS.ipynb\" target=\"_parent\"><img src=\"https://colab.research.google.com/assets/colab-badge.svg\" alt=\"Open In Colab\"/></a>"
      ]
    },
    {
      "cell_type": "markdown",
      "metadata": {
        "id": "jgQ0CL_agpXe"
      },
      "source": [
        "DISCIPLINA: MINERAÇÃO DADOS\n",
        "NOMES: ________________________________________\n",
        "\n",
        "\n",
        "**ADMINISTRAÇÃO DE DADOS **\n",
        "\n",
        "O processo de análise de dados é composto por algumas etapas essenciais:  como a definição do objeto de análise; a escolha o tipo de dados que serão analisados; a mensuração dos dados; a coleta de dados; a análise e limpeza dos dados; a análise Exploratória e a interpretação dos resultados.\n"
      ]
    },
    {
      "cell_type": "code",
      "execution_count": null,
      "metadata": {
        "id": "qQeM4SZF-3y2"
      },
      "outputs": [],
      "source": [
        "#Importação das Bibliotecas\n",
        "import pandas as pd"
      ]
    },
    {
      "cell_type": "code",
      "execution_count": null,
      "metadata": {
        "id": "mhr-HNli-9ks"
      },
      "outputs": [],
      "source": [
        "#importação da base de dados\n",
        "dados = pd.read_csv(\"drug.csv\", sep=\";\")\n",
        "dados.head()"
      ]
    },
    {
      "cell_type": "code",
      "execution_count": null,
      "metadata": {
        "colab": {
          "background_save": true,
          "base_uri": "https://localhost:8080/",
          "height": 162
        },
        "id": "GY8fb-48-9sj",
        "outputId": "d87bf353-910e-4791-dee7-b034b3b2b825"
      },
      "outputs": [
        {
          "data": {
            "text/plain": [
              "Age            0\n",
              "Sex            0\n",
              "BP             0\n",
              "Cholesterol    0\n",
              "Na_to_K        0\n",
              "Drug           0\n",
              "dtype: int64"
            ]
          },
          "execution_count": 10,
          "metadata": {},
          "output_type": "execute_result"
        }
      ],
      "source": [
        "#código da limpeza de dados\n",
        "dados.isnull()."
      ]
    },
    {
      "cell_type": "code",
      "execution_count": null,
      "metadata": {
        "id": "5uT5dYl0_EnZ"
      },
      "outputs": [],
      "source": [
        "#código da análise exploratória pelas estatísticas descritivas\n"
      ]
    },
    {
      "cell_type": "code",
      "execution_count": null,
      "metadata": {
        "id": "r0Jklf9l_KMQ"
      },
      "outputs": [],
      "source": [
        "#código da análise exploratória por gráficos\n"
      ]
    },
    {
      "cell_type": "code",
      "execution_count": null,
      "metadata": {
        "id": "jPDROtOZCKWQ"
      },
      "outputs": [],
      "source": [
        "#Gere um gráfico que demostre o padrão das duas classes dos dados, escolha as variáveis mais relevantes\n"
      ]
    },
    {
      "cell_type": "code",
      "execution_count": null,
      "metadata": {
        "id": "ghIH1xh4CXjV"
      },
      "outputs": [],
      "source": [
        "#Escreva a análise dos resultados e o que vc encontrou de padrão nos dados\n"
      ]
    }
  ],
  "metadata": {
    "colab": {
      "provenance": [],
      "include_colab_link": true
    },
    "kernelspec": {
      "display_name": "Python 3",
      "name": "python3"
    },
    "language_info": {
      "name": "python"
    }
  },
  "nbformat": 4,
  "nbformat_minor": 0
}