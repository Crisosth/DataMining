{
  "nbformat": 4,
  "nbformat_minor": 0,
  "metadata": {
    "colab": {
      "provenance": [],
      "include_colab_link": true
    },
    "kernelspec": {
      "name": "python3",
      "display_name": "Python 3"
    },
    "language_info": {
      "name": "python"
    }
  },
  "cells": [
    {
      "cell_type": "markdown",
      "metadata": {
        "id": "view-in-github",
        "colab_type": "text"
      },
      "source": [
        "<a href=\"https://colab.research.google.com/github/Crisosth/DataMining/blob/main/teste_de_hipotese-2.ipynb\" target=\"_parent\"><img src=\"https://colab.research.google.com/assets/colab-badge.svg\" alt=\"Open In Colab\"/></a>"
      ]
    },
    {
      "cell_type": "code",
      "execution_count": null,
      "metadata": {
        "id": "G0mujfHNE4Ry"
      },
      "outputs": [],
      "source": [
        "from scipy.stats import normaltest\n",
        "import pandas as pd\n",
        "from scipy import stats"
      ]
    },
    {
      "cell_type": "code",
      "source": [
        "dados = pd.read_csv('RH.csv')\n",
        "dados.head()"
      ],
      "metadata": {
        "id": "nGVui4jJFZDI"
      },
      "execution_count": null,
      "outputs": []
    },
    {
      "cell_type": "code",
      "source": [
        "#teste de normalidade\n",
        "normaltest(dados['ExperienceInCurrentDomain'])"
      ],
      "metadata": {
        "id": "mmR4z3SLlP4X"
      },
      "execution_count": null,
      "outputs": []
    },
    {
      "cell_type": "code",
      "source": [
        "#grafico de normalidade\n",
        "import seaborn as sns\n",
        "sns.distplot(dados['ExperienceInCurrentDomain'])"
      ],
      "metadata": {
        "id": "0oH9sX8cltKu"
      },
      "execution_count": null,
      "outputs": []
    },
    {
      "cell_type": "code",
      "source": [
        "#Divisão dos dados em grupo de classe\n",
        "homens = dados[dados.Gender == 'Male']\n",
        "mulheres = dados[dados.Gender == 'Female']\n"
      ],
      "metadata": {
        "id": "OB0E_Y38GXBM"
      },
      "execution_count": null,
      "outputs": []
    },
    {
      "cell_type": "code",
      "source": [
        "grupo = dados.groupby(['Gender']).size()\n",
        "grupo"
      ],
      "metadata": {
        "id": "xbad_jyGFs67"
      },
      "execution_count": null,
      "outputs": []
    },
    {
      "cell_type": "code",
      "source": [
        "#variavel amonia\n",
        "homens = homens['Age']\n",
        "mulheres = mulheres['Age']\n"
      ],
      "metadata": {
        "id": "dKCqAYxWjfI8"
      },
      "execution_count": null,
      "outputs": []
    },
    {
      "cell_type": "code",
      "source": [
        "homens.describe()"
      ],
      "metadata": {
        "id": "TbES4rFsNqrL"
      },
      "execution_count": null,
      "outputs": []
    },
    {
      "cell_type": "code",
      "source": [
        "mulheres.describe()"
      ],
      "metadata": {
        "colab": {
          "base_uri": "https://localhost:8080/"
        },
        "id": "CUu3a0zwNu8d",
        "outputId": "7cd716cd-23e6-4cd5-9d4d-1329a98ffb56"
      },
      "execution_count": null,
      "outputs": [
        {
          "output_type": "execute_result",
          "data": {
            "text/plain": [
              "count    1875.000000\n",
              "mean       29.416000\n",
              "std         4.838343\n",
              "min        22.000000\n",
              "25%        26.000000\n",
              "50%        28.000000\n",
              "75%        33.000000\n",
              "max        41.000000\n",
              "Name: Age, dtype: float64"
            ]
          },
          "metadata": {},
          "execution_count": 48
        }
      ]
    },
    {
      "cell_type": "code",
      "source": [
        "#teste Kruskal Wallis\n",
        "stats.kruskal(Bangalore, New_Delhi, Pune)"
      ],
      "metadata": {
        "colab": {
          "base_uri": "https://localhost:8080/"
        },
        "id": "ZagvU3iqHRUi",
        "outputId": "04331fe2-c481-4b40-c1a0-3c55367347f0"
      },
      "execution_count": null,
      "outputs": [
        {
          "output_type": "execute_result",
          "data": {
            "text/plain": [
              "KruskalResult(statistic=0.8970494105151545, pvalue=0.6385695353199488)"
            ]
          },
          "metadata": {},
          "execution_count": 37
        }
      ]
    },
    {
      "cell_type": "code",
      "source": [
        "#test Mann Whitney\n",
        "stats.mannwhitneyu(homens,mulheres)"
      ],
      "metadata": {
        "id": "IdKlV31tnsir",
        "colab": {
          "base_uri": "https://localhost:8080/"
        },
        "outputId": "775a3050-4aff-4772-d22a-38729194de26"
      },
      "execution_count": null,
      "outputs": [
        {
          "output_type": "execute_result",
          "data": {
            "text/plain": [
              "MannwhitneyuResult(statistic=2591313.5, pvalue=0.7703181418211646)"
            ]
          },
          "metadata": {},
          "execution_count": 49
        }
      ]
    },
    {
      "cell_type": "code",
      "source": [
        "#teste t\n",
        "from scipy import stats\n",
        "stats.ttest_ind(amonia_0,amonia_1)"
      ],
      "metadata": {
        "id": "fqrDGdvlnkh4"
      },
      "execution_count": null,
      "outputs": []
    },
    {
      "cell_type": "code",
      "source": [
        "#teste ANOVA\n",
        "stats.f_oneway(Bangalore, New_Delhi, Pune)"
      ],
      "metadata": {
        "id": "JmHYmRR-7DAP"
      },
      "execution_count": null,
      "outputs": []
    },
    {
      "cell_type": "code",
      "source": [
        "import seaborn as sns\n",
        "sns.set_theme(style=\"ticks\", palette=\"pastel\")\n",
        "\n",
        "# Load the example tips dataset\n",
        "tips = dados\n",
        "\n",
        "# Draw a nested boxplot to show bills by day and time\n",
        "sns.boxplot(x=\"Gender\", y=\"Age\",\n",
        "            hue=\"Gender\", palette=[\"m\", \"g\"],\n",
        "            data=tips)\n",
        "sns.despine(offset=10, trim=True)"
      ],
      "metadata": {
        "colab": {
          "base_uri": "https://localhost:8080/",
          "height": 472
        },
        "id": "8WCxM4SJ8qbD",
        "outputId": "3beb40f1-9900-438c-ddc8-d766bdb6540b"
      },
      "execution_count": null,
      "outputs": [
        {
          "output_type": "display_data",
          "data": {
            "text/plain": [
              "<Figure size 640x480 with 1 Axes>"
            ],
            "image/png": "[encoded data removed]"
          },
          "metadata": {}
        }
      ]
    }
  ]
}