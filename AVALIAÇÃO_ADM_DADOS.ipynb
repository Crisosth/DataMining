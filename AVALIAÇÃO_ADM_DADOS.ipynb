{
  "cells": [
    {
      "cell_type": "markdown",
      "metadata": {
        "id": "view-in-github",
        "colab_type": "text"
      },
      "source": [
        "<a href=\"https://colab.research.google.com/github/Crisosth/DataMining/blob/main/AVALIA%C3%87%C3%83O_ADM_DADOS.ipynb\" target=\"_parent\"><img src=\"https://colab.research.google.com/assets/colab-badge.svg\" alt=\"Open In Colab\"/></a>"
      ]
    },
    {
      "cell_type": "markdown",
      "metadata": {
        "id": "ShBL4cquMpgL"
      },
      "source": [
        "** Análise dos dados da qualidade do Leite**\n",
        "\n",
        "\n",
        "Faça a análise de dados completa e teste de hipótese as recomendações nos blocos de desenvolvimento."
      ]
    },
    {
      "cell_type": "markdown",
      "metadata": {
        "id": "hnS8kYm5SQza"
      },
      "source": [
        "# **Informações da base de dados **\n",
        "Previsão da Qualidade do Leite (Classificação)\n",
        "\n",
        "O conjunto de dados consiste em 7 variáveis ​​independentes, ou seja, pH, temperatura, sabor, odor, gordura, turbidez e cor. Geralmente, o Grau ou Qualidade do leite depende desses parâmetros. Esses parâmetros desempenham um papel vital na análise preditiva do leite.\n",
        "\n",
        "A variável de destino nada mais é do que o Grau do leite. Pode ser:\n",
        "\n",
        "Baixo (ruim)\n",
        "\n",
        "Médio (Moderado)\n",
        "\n",
        "Alto (Bom)\n",
        "\n",
        "Se Sabor, Odor, Gordura e Turbidez estiverem satisfeitos com as condições ideais, eles atribuirão 1, caso contrário, 0.\n",
        "Temperatura e ph recebem seus valores reais no conjunto de dados.\n",
        "\n",
        "Temos que realizar pré-processamento de dados e analise exploratória para construir modelos estatísticos e preditivos para prever a qualidade do leite."
      ]
    },
    {
      "cell_type": "code",
      "execution_count": null,
      "metadata": {
        "id": "aIjYgMWSMo6p",
        "colab": {
          "base_uri": "https://localhost:8080/",
          "height": 206
        },
        "outputId": "d76e9420-97a1-4bae-992a-4b2cc19fb1ce"
      },
      "outputs": [
        {
          "output_type": "execute_result",
          "data": {
            "text/plain": [
              "    pH  Temprature  Taste  Odor  Fat   Turbidity  Colour   Grade\n",
              "0  6.6          35      1     0     1          0     254    high\n",
              "1  6.6          36      0     1     0          1     253    high\n",
              "2  8.5          70      1     1     1          1     246     low\n",
              "3  9.5          34      1     1     0          1     255     low\n",
              "4  6.6          37      0     0     0          0     255  medium"
            ],
            "text/html": [
              "\n",
              "  <div id=\"df-e43bac67-394c-465e-abf3-4e3be4a7ea1c\" class=\"colab-df-container\">\n",
              "    <div>\n",
              "<style scoped>\n",
              "    .dataframe tbody tr th:only-of-type {\n",
              "        vertical-align: middle;\n",
              "    }\n",
              "\n",
              "    .dataframe tbody tr th {\n",
              "        vertical-align: top;\n",
              "    }\n",
              "\n",
              "    .dataframe thead th {\n",
              "        text-align: right;\n",
              "    }\n",
              "</style>\n",
              "<table border=\"1\" class=\"dataframe\">\n",
              "  <thead>\n",
              "    <tr style=\"text-align: right;\">\n",
              "      <th></th>\n",
              "      <th>pH</th>\n",
              "      <th>Temprature</th>\n",
              "      <th>Taste</th>\n",
              "      <th>Odor</th>\n",
              "      <th>Fat</th>\n",
              "      <th>Turbidity</th>\n",
              "      <th>Colour</th>\n",
              "      <th>Grade</th>\n",
              "    </tr>\n",
              "  </thead>\n",
              "  <tbody>\n",
              "    <tr>\n",
              "      <th>0</th>\n",
              "      <td>6.6</td>\n",
              "      <td>35</td>\n",
              "      <td>1</td>\n",
              "      <td>0</td>\n",
              "      <td>1</td>\n",
              "      <td>0</td>\n",
              "      <td>254</td>\n",
              "      <td>high</td>\n",
              "    </tr>\n",
              "    <tr>\n",
              "      <th>1</th>\n",
              "      <td>6.6</td>\n",
              "      <td>36</td>\n",
              "      <td>0</td>\n",
              "      <td>1</td>\n",
              "      <td>0</td>\n",
              "      <td>1</td>\n",
              "      <td>253</td>\n",
              "      <td>high</td>\n",
              "    </tr>\n",
              "    <tr>\n",
              "      <th>2</th>\n",
              "      <td>8.5</td>\n",
              "      <td>70</td>\n",
              "      <td>1</td>\n",
              "      <td>1</td>\n",
              "      <td>1</td>\n",
              "      <td>1</td>\n",
              "      <td>246</td>\n",
              "      <td>low</td>\n",
              "    </tr>\n",
              "    <tr>\n",
              "      <th>3</th>\n",
              "      <td>9.5</td>\n",
              "      <td>34</td>\n",
              "      <td>1</td>\n",
              "      <td>1</td>\n",
              "      <td>0</td>\n",
              "      <td>1</td>\n",
              "      <td>255</td>\n",
              "      <td>low</td>\n",
              "    </tr>\n",
              "    <tr>\n",
              "      <th>4</th>\n",
              "      <td>6.6</td>\n",
              "      <td>37</td>\n",
              "      <td>0</td>\n",
              "      <td>0</td>\n",
              "      <td>0</td>\n",
              "      <td>0</td>\n",
              "      <td>255</td>\n",
              "      <td>medium</td>\n",
              "    </tr>\n",
              "  </tbody>\n",
              "</table>\n",
              "</div>\n",
              "    <div class=\"colab-df-buttons\">\n",
              "\n",
              "  <div class=\"colab-df-container\">\n",
              "    <button class=\"colab-df-convert\" onclick=\"convertToInteractive('df-e43bac67-394c-465e-abf3-4e3be4a7ea1c')\"\n",
              "            title=\"Convert this dataframe to an interactive table.\"\n",
              "            style=\"display:none;\">\n",
              "\n",
              "  <svg xmlns=\"http://www.w3.org/2000/svg\" height=\"24px\" viewBox=\"0 -960 960 960\">\n",
              "    <path d=\"M120-120v-720h720v720H120Zm60-500h600v-160H180v160Zm220 220h160v-160H400v160Zm0 220h160v-160H400v160ZM180-400h160v-160H180v160Zm440 0h160v-160H620v160ZM180-180h160v-160H180v160Zm440 0h160v-160H620v160Z\"/>\n",
              "  </svg>\n",
              "    </button>\n",
              "\n",
              "  <style>\n",
              "    .colab-df-container {\n",
              "      display:flex;\n",
              "      gap: 12px;\n",
              "    }\n",
              "\n",
              "    .colab-df-convert {\n",
              "      background-color: #E8F0FE;\n",
              "      border: none;\n",
              "      border-radius: 50%;\n",
              "      cursor: pointer;\n",
              "      display: none;\n",
              "      fill: #1967D2;\n",
              "      height: 32px;\n",
              "      padding: 0 0 0 0;\n",
              "      width: 32px;\n",
              "    }\n",
              "\n",
              "    .colab-df-convert:hover {\n",
              "      background-color: #E2EBFA;\n",
              "      box-shadow: 0px 1px 2px rgba(60, 64, 67, 0.3), 0px 1px 3px 1px rgba(60, 64, 67, 0.15);\n",
              "      fill: #174EA6;\n",
              "    }\n",
              "\n",
              "    .colab-df-buttons div {\n",
              "      margin-bottom: 4px;\n",
              "    }\n",
              "\n",
              "    [theme=dark] .colab-df-convert {\n",
              "      background-color: #3B4455;\n",
              "      fill: #D2E3FC;\n",
              "    }\n",
              "\n",
              "    [theme=dark] .colab-df-convert:hover {\n",
              "      background-color: #434B5C;\n",
              "      box-shadow: 0px 1px 3px 1px rgba(0, 0, 0, 0.15);\n",
              "      filter: drop-shadow(0px 1px 2px rgba(0, 0, 0, 0.3));\n",
              "      fill: #FFFFFF;\n",
              "    }\n",
              "  </style>\n",
              "\n",
              "    <script>\n",
              "      const buttonEl =\n",
              "        document.querySelector('#df-e43bac67-394c-465e-abf3-4e3be4a7ea1c button.colab-df-convert');\n",
              "      buttonEl.style.display =\n",
              "        google.colab.kernel.accessAllowed ? 'block' : 'none';\n",
              "\n",
              "      async function convertToInteractive(key) {\n",
              "        const element = document.querySelector('#df-e43bac67-394c-465e-abf3-4e3be4a7ea1c');\n",
              "        const dataTable =\n",
              "          await google.colab.kernel.invokeFunction('convertToInteractive',\n",
              "                                                    [key], {});\n",
              "        if (!dataTable) return;\n",
              "\n",
              "        const docLinkHtml = 'Like what you see? Visit the ' +\n",
              "          '<a target=\"_blank\" href=https://colab.research.google.com/notebooks/data_table.ipynb>data table notebook</a>'\n",
              "          + ' to learn more about interactive tables.';\n",
              "        element.innerHTML = '';\n",
              "        dataTable['output_type'] = 'display_data';\n",
              "        await google.colab.output.renderOutput(dataTable, element);\n",
              "        const docLink = document.createElement('div');\n",
              "        docLink.innerHTML = docLinkHtml;\n",
              "        element.appendChild(docLink);\n",
              "      }\n",
              "    </script>\n",
              "  </div>\n",
              "\n",
              "\n",
              "<div id=\"df-9c48205d-264f-4720-ac96-ceafd01b0c35\">\n",
              "  <button class=\"colab-df-quickchart\" onclick=\"quickchart('df-9c48205d-264f-4720-ac96-ceafd01b0c35')\"\n",
              "            title=\"Suggest charts\"\n",
              "            style=\"display:none;\">\n",
              "\n",
              "<svg xmlns=\"http://www.w3.org/2000/svg\" height=\"24px\"viewBox=\"0 0 24 24\"\n",
              "     width=\"24px\">\n",
              "    <g>\n",
              "        <path d=\"M19 3H5c-1.1 0-2 .9-2 2v14c0 1.1.9 2 2 2h14c1.1 0 2-.9 2-2V5c0-1.1-.9-2-2-2zM9 17H7v-7h2v7zm4 0h-2V7h2v10zm4 0h-2v-4h2v4z\"/>\n",
              "    </g>\n",
              "</svg>\n",
              "  </button>\n",
              "\n",
              "<style>\n",
              "  .colab-df-quickchart {\n",
              "      --bg-color: #E8F0FE;\n",
              "      --fill-color: #1967D2;\n",
              "      --hover-bg-color: #E2EBFA;\n",
              "      --hover-fill-color: #174EA6;\n",
              "      --disabled-fill-color: #AAA;\n",
              "      --disabled-bg-color: #DDD;\n",
              "  }\n",
              "\n",
              "  [theme=dark] .colab-df-quickchart {\n",
              "      --bg-color: #3B4455;\n",
              "      --fill-color: #D2E3FC;\n",
              "      --hover-bg-color: #434B5C;\n",
              "      --hover-fill-color: #FFFFFF;\n",
              "      --disabled-bg-color: #3B4455;\n",
              "      --disabled-fill-color: #666;\n",
              "  }\n",
              "\n",
              "  .colab-df-quickchart {\n",
              "    background-color: var(--bg-color);\n",
              "    border: none;\n",
              "    border-radius: 50%;\n",
              "    cursor: pointer;\n",
              "    display: none;\n",
              "    fill: var(--fill-color);\n",
              "    height: 32px;\n",
              "    padding: 0;\n",
              "    width: 32px;\n",
              "  }\n",
              "\n",
              "  .colab-df-quickchart:hover {\n",
              "    background-color: var(--hover-bg-color);\n",
              "    box-shadow: 0 1px 2px rgba(60, 64, 67, 0.3), 0 1px 3px 1px rgba(60, 64, 67, 0.15);\n",
              "    fill: var(--button-hover-fill-color);\n",
              "  }\n",
              "\n",
              "  .colab-df-quickchart-complete:disabled,\n",
              "  .colab-df-quickchart-complete:disabled:hover {\n",
              "    background-color: var(--disabled-bg-color);\n",
              "    fill: var(--disabled-fill-color);\n",
              "    box-shadow: none;\n",
              "  }\n",
              "\n",
              "  .colab-df-spinner {\n",
              "    border: 2px solid var(--fill-color);\n",
              "    border-color: transparent;\n",
              "    border-bottom-color: var(--fill-color);\n",
              "    animation:\n",
              "      spin 1s steps(1) infinite;\n",
              "  }\n",
              "\n",
              "  @keyframes spin {\n",
              "    0% {\n",
              "      border-color: transparent;\n",
              "      border-bottom-color: var(--fill-color);\n",
              "      border-left-color: var(--fill-color);\n",
              "    }\n",
              "    20% {\n",
              "      border-color: transparent;\n",
              "      border-left-color: var(--fill-color);\n",
              "      border-top-color: var(--fill-color);\n",
              "    }\n",
              "    30% {\n",
              "      border-color: transparent;\n",
              "      border-left-color: var(--fill-color);\n",
              "      border-top-color: var(--fill-color);\n",
              "      border-right-color: var(--fill-color);\n",
              "    }\n",
              "    40% {\n",
              "      border-color: transparent;\n",
              "      border-right-color: var(--fill-color);\n",
              "      border-top-color: var(--fill-color);\n",
              "    }\n",
              "    60% {\n",
              "      border-color: transparent;\n",
              "      border-right-color: var(--fill-color);\n",
              "    }\n",
              "    80% {\n",
              "      border-color: transparent;\n",
              "      border-right-color: var(--fill-color);\n",
              "      border-bottom-color: var(--fill-color);\n",
              "    }\n",
              "    90% {\n",
              "      border-color: transparent;\n",
              "      border-bottom-color: var(--fill-color);\n",
              "    }\n",
              "  }\n",
              "</style>\n",
              "\n",
              "  <script>\n",
              "    async function quickchart(key) {\n",
              "      const quickchartButtonEl =\n",
              "        document.querySelector('#' + key + ' button');\n",
              "      quickchartButtonEl.disabled = true;  // To prevent multiple clicks.\n",
              "      quickchartButtonEl.classList.add('colab-df-spinner');\n",
              "      try {\n",
              "        const charts = await google.colab.kernel.invokeFunction(\n",
              "            'suggestCharts', [key], {});\n",
              "      } catch (error) {\n",
              "        console.error('Error during call to suggestCharts:', error);\n",
              "      }\n",
              "      quickchartButtonEl.classList.remove('colab-df-spinner');\n",
              "      quickchartButtonEl.classList.add('colab-df-quickchart-complete');\n",
              "    }\n",
              "    (() => {\n",
              "      let quickchartButtonEl =\n",
              "        document.querySelector('#df-9c48205d-264f-4720-ac96-ceafd01b0c35 button');\n",
              "      quickchartButtonEl.style.display =\n",
              "        google.colab.kernel.accessAllowed ? 'block' : 'none';\n",
              "    })();\n",
              "  </script>\n",
              "</div>\n",
              "\n",
              "    </div>\n",
              "  </div>\n"
            ],
            "application/vnd.google.colaboratory.intrinsic+json": {
              "type": "dataframe",
              "variable_name": "dados",
              "summary": "{\n  \"name\": \"dados\",\n  \"rows\": 380,\n  \"fields\": [\n    {\n      \"column\": \"pH\",\n      \"properties\": {\n        \"dtype\": \"number\",\n        \"std\": 1.4015557398391718,\n        \"min\": 3.0,\n        \"max\": 9.5,\n        \"num_unique_values\": 16,\n        \"samples\": [\n          6.6,\n          8.5,\n          8.1\n        ],\n        \"semantic_type\": \"\",\n        \"description\": \"\"\n      }\n    },\n    {\n      \"column\": \"Temprature\",\n      \"properties\": {\n        \"dtype\": \"number\",\n        \"std\": 11,\n        \"min\": 34,\n        \"max\": 90,\n        \"num_unique_values\": 17,\n        \"samples\": [\n          35,\n          36,\n          45\n        ],\n        \"semantic_type\": \"\",\n        \"description\": \"\"\n      }\n    },\n    {\n      \"column\": \"Taste\",\n      \"properties\": {\n        \"dtype\": \"number\",\n        \"std\": 0,\n        \"min\": 0,\n        \"max\": 1,\n        \"num_unique_values\": 2,\n        \"samples\": [\n          0,\n          1\n        ],\n        \"semantic_type\": \"\",\n        \"description\": \"\"\n      }\n    },\n    {\n      \"column\": \"Odor\",\n      \"properties\": {\n        \"dtype\": \"number\",\n        \"std\": 0,\n        \"min\": 0,\n        \"max\": 1,\n        \"num_unique_values\": 2,\n        \"samples\": [\n          1,\n          0\n        ],\n        \"semantic_type\": \"\",\n        \"description\": \"\"\n      }\n    },\n    {\n      \"column\": \"Fat \",\n      \"properties\": {\n        \"dtype\": \"number\",\n        \"std\": 0,\n        \"min\": 0,\n        \"max\": 1,\n        \"num_unique_values\": 2,\n        \"samples\": [\n          0,\n          1\n        ],\n        \"semantic_type\": \"\",\n        \"description\": \"\"\n      }\n    },\n    {\n      \"column\": \"Turbidity\",\n      \"properties\": {\n        \"dtype\": \"number\",\n        \"std\": 0,\n        \"min\": 0,\n        \"max\": 1,\n        \"num_unique_values\": 2,\n        \"samples\": [\n          1,\n          0\n        ],\n        \"semantic_type\": \"\",\n        \"description\": \"\"\n      }\n    },\n    {\n      \"column\": \"Colour\",\n      \"properties\": {\n        \"dtype\": \"number\",\n        \"std\": 4,\n        \"min\": 240,\n        \"max\": 255,\n        \"num_unique_values\": 9,\n        \"samples\": [\n          240,\n          253\n        ],\n        \"semantic_type\": \"\",\n        \"description\": \"\"\n      }\n    },\n    {\n      \"column\": \"Grade\",\n      \"properties\": {\n        \"dtype\": \"category\",\n        \"num_unique_values\": 3,\n        \"samples\": [\n          \"high\",\n          \"low\"\n        ],\n        \"semantic_type\": \"\",\n        \"description\": \"\"\n      }\n    }\n  ]\n}"
            }
          },
          "metadata": {},
          "execution_count": 7
        }
      ],
      "source": [
        "## ADICIONAR A BASE DE DADOS\n",
        "from scipy.stats import normaltest\n",
        "import pandas as pd\n",
        "from scipy import stats\n",
        "\n",
        "dados = pd.read_csv('milk.csv', sep=\";\")\n",
        "dados.head()"
      ]
    },
    {
      "cell_type": "code",
      "execution_count": null,
      "metadata": {
        "id": "2CNbT17HS-5K",
        "colab": {
          "base_uri": "https://localhost:8080/"
        },
        "outputId": "5443cfee-d962-4c4c-9000-26a3469b62f9"
      },
      "outputs": [
        {
          "output_type": "execute_result",
          "data": {
            "text/plain": [
              "Grade\n",
              "high       86\n",
              "low       159\n",
              "medium    135\n",
              "dtype: int64"
            ]
          },
          "metadata": {},
          "execution_count": 8
        }
      ],
      "source": [
        "## LIMPEZA DE DADOS: VERIFICAR DADOS NULOS, OUTLIERS E OUTROS\n",
        "dados.isnull().sum()\n",
        "## Não há dados nulos\n",
        "\n",
        "#explorar dados categoricos(Todos foram buscados da mesma maneira substituindo somente o valor dentro do parêntese)\n",
        "##pH não tem outliers\n",
        "##Temprature não tem outliers(Mas tem valores altos, principalmente o 90)\n",
        "##Taste não tem outliers\n",
        "##Odor não tem outliers\n",
        "##Fat não tem outliers, porém tem um espaço no final do nome da coluna\n",
        "##Turbidity não tem outliers\n",
        "##Colour não tem outliers\n",
        "##Grade não tem outliers\n",
        "\n",
        "\n",
        "agrupado = dados.groupby(['Grade']).size()\n",
        "agrupado"
      ]
    },
    {
      "cell_type": "code",
      "execution_count": null,
      "metadata": {
        "id": "zz9kCXqFS_ci"
      },
      "outputs": [],
      "source": [
        "## LIMPEZA DE DADOS: SE FALTAR DADOS, ATRIBUIR A MEDIANA PARA DADOS NUMERICOS E A MODA PARA DADOS CATEGÓRICOS\n",
        "\n",
        "##Todos os dados já satisfazem valores ideais para a análise"
      ]
    },
    {
      "cell_type": "code",
      "execution_count": null,
      "metadata": {
        "id": "RltVKKkqTa2q",
        "colab": {
          "base_uri": "https://localhost:8080/"
        },
        "outputId": "a2502058-a7ce-491c-d35a-5339564f2ffc"
      },
      "outputs": [
        {
          "output_type": "execute_result",
          "data": {
            "text/plain": [
              "count    380.000000\n",
              "mean       6.667632\n",
              "std        1.401556\n",
              "min        3.000000\n",
              "25%        6.500000\n",
              "50%        6.700000\n",
              "75%        6.800000\n",
              "max        9.500000\n",
              "Name: pH, dtype: float64"
            ]
          },
          "metadata": {},
          "execution_count": 10
        }
      ],
      "source": [
        "## ANÁLISE EXPLORATÓRIA: EXTRAIR A ESTATÍSTICA DESCRITIVA DADOS NUMÉRICOS DE CADA VARIÁVEL (PH E TEMPERATURA) EM RELAÇÃO AS CLASSES DA QUALIDADE\n",
        "#divisao dos dados\n",
        "pH = dados['pH']\n",
        "Temprature = dados['Temprature']\n",
        "\n",
        "pH.describe()"
      ]
    },
    {
      "cell_type": "code",
      "source": [
        "Temprature.describe()"
      ],
      "metadata": {
        "colab": {
          "base_uri": "https://localhost:8080/"
        },
        "id": "vKzW91VMRSKY",
        "outputId": "ebb8d2ce-26b5-451a-fa19-c9e4878f7d99"
      },
      "execution_count": null,
      "outputs": [
        {
          "output_type": "execute_result",
          "data": {
            "text/plain": [
              "count    380.000000\n",
              "mean      44.860526\n",
              "std       11.022836\n",
              "min       34.000000\n",
              "25%       38.000000\n",
              "50%       41.500000\n",
              "75%       45.000000\n",
              "max       90.000000\n",
              "Name: Temprature, dtype: float64"
            ]
          },
          "metadata": {},
          "execution_count": 11
        }
      ]
    },
    {
      "cell_type": "code",
      "execution_count": null,
      "metadata": {
        "id": "c6stFa76T5pb",
        "colab": {
          "base_uri": "https://localhost:8080/",
          "height": 524
        },
        "outputId": "7167ee1a-c62b-4621-baae-ae0789de1470"
      },
      "outputs": [
        {
          "output_type": "stream",
          "name": "stderr",
          "text": [
            "<ipython-input-12-4a6a4a7390a0>:9: UserWarning: \n",
            "The palette list has fewer values (2) than needed (3) and will cycle, which may produce an uninterpretable plot.\n",
            "  sns.boxplot(x=\"Grade\", y=\"pH\",\n"
          ]
        },
        {
          "output_type": "display_data",
          "data": {
            "text/plain": [
              "<Figure size 640x480 with 1 Axes>"
            ],
            "image/png": "[encoded data removed]"
          },
          "metadata": {}
        }
      ],
      "source": [
        "## ANÁLISE EXPLORATÓRIA: EXPLORAR GRAFICAMENTE AS VARIÁVEIS COM OS DADOS NUMERICOS EM RELAÇÃO AO PROBLEMA DO ESTUDO (CLASSES DE QUALIDADE DO LEITE )(EX. BOXPLOT, DISPERSÃO, BOLHAS ...)\n",
        "import seaborn as sns\n",
        "sns.set_theme(style=\"ticks\", palette=\"pastel\")\n",
        "\n",
        "# Carregar o dataset\n",
        "tips = dados\n",
        "\n",
        "# Desenhar em tela um grafico de barras usando como variável categórica a qualidade pela variável numérica pH\n",
        "sns.boxplot(x=\"Grade\", y=\"pH\",\n",
        "            hue=\"Grade\", palette=[\"m\", \"g\"],\n",
        "            data=tips)\n",
        "sns.despine(offset=10, trim=True)"
      ]
    },
    {
      "cell_type": "code",
      "source": [
        "# Carregar o dataset\n",
        "tips = dados\n",
        "\n",
        "# Desenhar em tela um grafico de barras usando como variável categórica a qualidade pela variável numérica pH\n",
        "sns.boxplot(x=\"Grade\", y=\"Temprature\",\n",
        "            hue=\"Grade\", palette=[\"m\", \"g\"],\n",
        "            data=tips)\n",
        "sns.despine(offset=10, trim=True)"
      ],
      "metadata": {
        "colab": {
          "base_uri": "https://localhost:8080/",
          "height": 524
        },
        "id": "LZAZQGZQTKxy",
        "outputId": "070b2b81-2968-4e11-8497-1b843dd318d5"
      },
      "execution_count": null,
      "outputs": [
        {
          "output_type": "stream",
          "name": "stderr",
          "text": [
            "<ipython-input-13-d32afc8c2cff>:5: UserWarning: \n",
            "The palette list has fewer values (2) than needed (3) and will cycle, which may produce an uninterpretable plot.\n",
            "  sns.boxplot(x=\"Grade\", y=\"Temprature\",\n"
          ]
        },
        {
          "output_type": "display_data",
          "data": {
            "text/plain": [
              "<Figure size 640x480 with 1 Axes>"
            ],
            "image/png": "[encoded data removed]"
          },
          "metadata": {}
        }
      ]
    },
    {
      "cell_type": "code",
      "source": [
        "##Gráfico para saber qual a classe que tem o leite com maior intensidade de cor\n",
        "tips = dados\n",
        "\n",
        "# Contando o número de ocorrências de cada combinação de Qualidade e Colour\n",
        "df = pd.DataFrame(dados)\n",
        "Contagem = df.groupby(['Grade', 'Colour']).size().reset_index(name='Contagem')\n",
        "\n",
        "# Criando o gráfico de barras empilhadas\n",
        "sns.barplot(x='Grade', y='Contagem', hue='Colour', data=Contagem)\n",
        "\n",
        "##O leite com a maior intensidade de cor é o de baixa qualidade(low)"
      ],
      "metadata": {
        "colab": {
          "base_uri": "https://localhost:8080/",
          "height": 475
        },
        "id": "BwrEp2OTEqC2",
        "outputId": "4c8c2c64-7bf0-4fd6-d4ff-d25f5f5ed8a8"
      },
      "execution_count": null,
      "outputs": [
        {
          "output_type": "execute_result",
          "data": {
            "text/plain": [
              "<Axes: xlabel='Grade', ylabel='Contagem'>"
            ]
          },
          "metadata": {},
          "execution_count": 14
        },
        {
          "output_type": "display_data",
          "data": {
            "text/plain": [
              "<Figure size 640x480 with 1 Axes>"
            ],
            "image/png": "[encoded data removed]"
          },
          "metadata": {}
        }
      ]
    },
    {
      "cell_type": "code",
      "execution_count": null,
      "metadata": {
        "id": "Dc5CS_kdU87N",
        "colab": {
          "base_uri": "https://localhost:8080/",
          "height": 666
        },
        "outputId": "a9edaeac-984f-449f-ad16-bb2dc2283b18"
      },
      "outputs": [
        {
          "output_type": "stream",
          "name": "stderr",
          "text": [
            "<ipython-input-20-68f5edbce852>:7: UserWarning: \n",
            "\n",
            "`distplot` is a deprecated function and will be removed in seaborn v0.14.0.\n",
            "\n",
            "Please adapt your code to use either `displot` (a figure-level function with\n",
            "similar flexibility) or `histplot` (an axes-level function for histograms).\n",
            "\n",
            "For a guide to updating your code to use the new functions, please see\n",
            "https://gist.github.com/mwaskom/de44147ed2974457ad6372750bbe5751\n",
            "\n",
            "  sns.distplot(dados['pH'])\n"
          ]
        },
        {
          "output_type": "execute_result",
          "data": {
            "text/plain": [
              "<Axes: xlabel='pH', ylabel='Density'>"
            ]
          },
          "metadata": {},
          "execution_count": 20
        },
        {
          "output_type": "display_data",
          "data": {
            "text/plain": [
              "<Figure size 640x480 with 1 Axes>"
            ],
            "image/png": "[encoded data removed]"
          },
          "metadata": {}
        }
      ],
      "source": [
        "##Faça o teste de normalidade dos dados numéricos\n",
        "#teste de normalidade\n",
        "normaltest(dados['pH'])\n",
        "\n",
        "#p<alfa ou seja rejeitamos a H0\n",
        "\n",
        "sns.distplot(dados['pH'])"
      ]
    },
    {
      "cell_type": "code",
      "source": [
        "normaltest(dados['Temprature'])\n",
        "#p<alfa ou seja rejeita-se a H0\n",
        "\n",
        "sns.distplot(dados['Temprature'])"
      ],
      "metadata": {
        "colab": {
          "base_uri": "https://localhost:8080/",
          "height": 666
        },
        "id": "gZw-_I1wUTpB",
        "outputId": "a1c0bacd-7635-4cb2-b91d-d83d566aca4a"
      },
      "execution_count": null,
      "outputs": [
        {
          "output_type": "stream",
          "name": "stderr",
          "text": [
            "<ipython-input-21-e0f7e556a5e8>:4: UserWarning: \n",
            "\n",
            "`distplot` is a deprecated function and will be removed in seaborn v0.14.0.\n",
            "\n",
            "Please adapt your code to use either `displot` (a figure-level function with\n",
            "similar flexibility) or `histplot` (an axes-level function for histograms).\n",
            "\n",
            "For a guide to updating your code to use the new functions, please see\n",
            "https://gist.github.com/mwaskom/de44147ed2974457ad6372750bbe5751\n",
            "\n",
            "  sns.distplot(dados['Temprature'])\n"
          ]
        },
        {
          "output_type": "execute_result",
          "data": {
            "text/plain": [
              "<Axes: xlabel='Temprature', ylabel='Density'>"
            ]
          },
          "metadata": {},
          "execution_count": 21
        },
        {
          "output_type": "display_data",
          "data": {
            "text/plain": [
              "<Figure size 640x480 with 1 Axes>"
            ],
            "image/png": "[encoded data removed]"
          },
          "metadata": {}
        }
      ]
    },
    {
      "cell_type": "code",
      "source": [
        "High= dados[dados.Grade == 'high']\n",
        "Medium = dados[dados.Grade == 'medium']\n",
        "Low = dados[dados.Grade == 'low']\n",
        "High_pH = High['pH']\n",
        "Medium_pH = Medium['pH']\n",
        "Low_pH = Low['pH']"
      ],
      "metadata": {
        "id": "S2SMEhwKnGTx"
      },
      "execution_count": null,
      "outputs": []
    },
    {
      "cell_type": "code",
      "execution_count": null,
      "metadata": {
        "id": "iP2WwNTnVCEs",
        "colab": {
          "base_uri": "https://localhost:8080/"
        },
        "outputId": "d807c5f2-c5b8-4abb-b65b-f579f3821bde"
      },
      "outputs": [
        {
          "output_type": "execute_result",
          "data": {
            "text/plain": [
              "KruskalResult(statistic=7.899402827634747, pvalue=0.019260451821687122)"
            ]
          },
          "metadata": {},
          "execution_count": 44
        }
      ],
      "source": [
        "##O teste ideal é o de Kruskal pois os dados são não-normais, não-pareados e são mais de 2 grupos\n",
        "#teste Kruskal Wallis\n",
        "stats.kruskal(High_pH, Medium_pH, Low_pH)"
      ]
    },
    {
      "cell_type": "code",
      "execution_count": null,
      "metadata": {
        "id": "0dkNvDMqVTNE"
      },
      "outputs": [],
      "source": [
        "##Faça o teste de hipótese adequado conforme a indicação do teste de normalidade, relacionando Temperatura x Grade\n",
        "High_Temp = High['Temprature']\n",
        "Medium_Temp = Medium['Temprature']\n",
        "Low_Temp = Low['Temprature']"
      ]
    },
    {
      "cell_type": "code",
      "source": [
        "stats.kruskal(High_Temp, Medium_Temp, Low_Temp)"
      ],
      "metadata": {
        "colab": {
          "base_uri": "https://localhost:8080/"
        },
        "id": "IUbRoVQRoyji",
        "outputId": "c22f52e8-ec89-4df4-9c9a-8f66db2b84c1"
      },
      "execution_count": null,
      "outputs": [
        {
          "output_type": "execute_result",
          "data": {
            "text/plain": [
              "KruskalResult(statistic=86.16423136761124, pvalue=1.9483855042131592e-19)"
            ]
          },
          "metadata": {},
          "execution_count": 46
        }
      ]
    },
    {
      "cell_type": "code",
      "source": [
        "##Gráfico para saber qual a classe que tem o leite com maior frequencia de odor\n",
        "tips = dados\n",
        "\n",
        "# Contando o número de ocorrências de cada combinação de Qualidade e Odor\n",
        "df = pd.DataFrame(dados)\n",
        "Contagem = df.groupby(['Grade', 'Odor']).size().reset_index(name='Contagem')\n",
        "\n",
        "# Criando o gráfico de barras empilhadas\n",
        "sns.barplot(x='Grade', y='Contagem', hue='Odor', data=Contagem)\n",
        "\n",
        "##O leite com a maior frequencia de odor é o de baixa qualidade(low)"
      ],
      "metadata": {
        "colab": {
          "base_uri": "https://localhost:8080/",
          "height": 475
        },
        "id": "3E3BcEGMpsfb",
        "outputId": "e2f3a0a6-2fa9-46f3-8ec2-7b0f5244e1ec"
      },
      "execution_count": null,
      "outputs": [
        {
          "output_type": "execute_result",
          "data": {
            "text/plain": [
              "<Axes: xlabel='Grade', ylabel='Contagem'>"
            ]
          },
          "metadata": {},
          "execution_count": 8
        },
        {
          "output_type": "display_data",
          "data": {
            "text/plain": [
              "<Figure size 640x480 with 1 Axes>"
            ],
            "image/png": "[encoded data removed]"
          },
          "metadata": {}
        }
      ]
    },
    {
      "cell_type": "code",
      "source": [
        "##Gráfico para saber qual a classe que tem o leite é mais gorduroso\n",
        "tips = dados\n",
        "\n",
        "# Contando o número de ocorrências de cada combinação de Qualidade e Odor\n",
        "df = pd.DataFrame(dados)\n",
        "Contagem = df.groupby(['Grade', 'Fat ']).size().reset_index(name='Contagem')\n",
        "\n",
        "# Criando o gráfico de barras empilhadas\n",
        "sns.barplot(x='Grade', y='Contagem', hue='Fat ', data=Contagem)\n",
        "\n",
        "##O leite mais gorduroso é o de baixa qualidade(low)"
      ],
      "metadata": {
        "colab": {
          "base_uri": "https://localhost:8080/",
          "height": 475
        },
        "id": "IOORZMkFqRDz",
        "outputId": "6ed755e2-2b3c-4fe5-97a2-ddeff2852a05"
      },
      "execution_count": null,
      "outputs": [
        {
          "output_type": "execute_result",
          "data": {
            "text/plain": [
              "<Axes: xlabel='Grade', ylabel='Contagem'>"
            ]
          },
          "metadata": {},
          "execution_count": 9
        },
        {
          "output_type": "display_data",
          "data": {
            "text/plain": [
              "<Figure size 640x480 with 1 Axes>"
            ],
            "image/png": "[encoded data removed]"
          },
          "metadata": {}
        }
      ]
    },
    {
      "cell_type": "code",
      "execution_count": null,
      "metadata": {
        "id": "AYmk2qnkVJri"
      },
      "outputs": [],
      "source": [
        "### DESCREVA A CONCLUSÃO DA ANÁLISE, INFORMANDO QUAIS AS CARACTERÍSTICAS DE CADA CLASSE DO LEITE.\n",
        "\n",
        "### Informe a média PH e Desvio padrão das classes do leite, apontando a classe que possui maior PH\n",
        "##A média do PH é 6.6, o desvio padrão é 1.40, a classe que possui o maior pH é a classe low(baixa qualidade)\n",
        "\n",
        "### Informe qual classe de leite possui maior frequencia de Odor e é mais gorduroso\n",
        "##O leite com maior frequencia de odor é o low(baixa qualidade), o mesmo vale para o mais gorduroso, tamém é o low(baixa qualidade)\n",
        "\n",
        "### Informe qual classe de leite possui maior PH e Temperatura, informe se tem diferenças significativas (TESTE DE HIPOTESE)\n",
        "##A classe de leite que possui o maior pH é o de baixa qualidade(low) o teste de hipótese mostra que há uma diferença significativa entre as classes pois o valor de p é menor que alfa\n",
        "##O mesmo se aplica a temperatura, o de baixa qualidade apresenta a maior temperatura e o teste de hipótese aponta o mesmo, diferença significativa tal que p é menor que alfa\n",
        "\n",
        "\n",
        "### Verifique a maior frequencia de intesidade de cor na coloração do leite (os valores da variável Color são representados pela intensidade de pixel 0-255)\n",
        "##A maior frequencia de intensidade da cor do leite é no de baixa quualidade(low), que pelo gráfico podemos ver que passa dos 100 registros\n",
        "\n",
        "\n",
        "### Em resumo, o que Você identificou do padrão da qualidade do leite? Descreva uma resultado pontual.\n",
        "##Foi possível verificar que o leite de baixa qualidade está muito fora do padrão no geral em comparação aos leites de média e alta qualidade\n",
        "##No geral ele apresenta maiores taxas de valores fora do padrão se comparado com média e alta qualidade\n",
        "##pH muito fora da média no geral, temperaturas mais elevadas, mais gorduroso, mais frequencia de cor são os principais pontos-\n",
        "##-onde podemos ver diferenças significativas entre os leites de baixa qualidade com os demais.\n",
        "\n"
      ]
    }
  ],
  "metadata": {
    "colab": {
      "provenance": [],
      "include_colab_link": true
    },
    "kernelspec": {
      "display_name": "Python 3",
      "name": "python3"
    },
    "language_info": {
      "name": "python"
    }
  },
  "nbformat": 4,
  "nbformat_minor": 0
}